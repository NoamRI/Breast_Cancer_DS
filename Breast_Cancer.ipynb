{
 "cells": [
  {
   "cell_type": "markdown",
   "id": "seven-exposure",
   "metadata": {},
   "source": [
    "# **Breast Cancer Data**"
   ]
  },
  {
   "cell_type": "markdown",
   "id": "flexible-employee",
   "metadata": {},
   "source": [
    "https://www.kaggle.com/datasets/reihanenamdari/breast-cancer"
   ]
  },
  {
   "cell_type": "markdown",
   "id": "listed-posting",
   "metadata": {},
   "source": [
    "### Importing the libraries"
   ]
  },
  {
   "cell_type": "code",
   "execution_count": 1,
   "id": "proud-guitar",
   "metadata": {},
   "outputs": [],
   "source": [
    "import pandas as pd\n",
    "import numpy as np\n",
    "import matplotlib.pyplot as plt\n",
    "import seaborn as sns\n",
    "sns.set_style(\"whitegrid\")"
   ]
  },
  {
   "cell_type": "markdown",
   "id": "stone-tattoo",
   "metadata": {},
   "source": [
    "### Importing the data"
   ]
  },
  {
   "cell_type": "code",
   "execution_count": 2,
   "id": "excess-governor",
   "metadata": {},
   "outputs": [],
   "source": [
    "data = pd.read_csv(\"Breast_Cancer.csv\")"
   ]
  },
  {
   "cell_type": "markdown",
   "id": "representative-dragon",
   "metadata": {},
   "source": [
    "### Data Analysis"
   ]
  },
  {
   "cell_type": "markdown",
   "id": "numeric-converter",
   "metadata": {},
   "source": [
    "Let's have a look on the data"
   ]
  },
  {
   "cell_type": "code",
   "execution_count": 16,
   "id": "pharmaceutical-blink",
   "metadata": {},
   "outputs": [
    {
     "data": {
      "text/html": [
       "<div>\n",
       "<style scoped>\n",
       "    .dataframe tbody tr th:only-of-type {\n",
       "        vertical-align: middle;\n",
       "    }\n",
       "\n",
       "    .dataframe tbody tr th {\n",
       "        vertical-align: top;\n",
       "    }\n",
       "\n",
       "    .dataframe thead th {\n",
       "        text-align: right;\n",
       "    }\n",
       "</style>\n",
       "<table border=\"1\" class=\"dataframe\">\n",
       "  <thead>\n",
       "    <tr style=\"text-align: right;\">\n",
       "      <th></th>\n",
       "      <th>Age</th>\n",
       "      <th>Race</th>\n",
       "      <th>Marital Status</th>\n",
       "      <th>T Stage</th>\n",
       "      <th>N Stage</th>\n",
       "      <th>6th Stage</th>\n",
       "      <th>differentiate</th>\n",
       "      <th>Grade</th>\n",
       "      <th>A Stage</th>\n",
       "      <th>Tumor Size</th>\n",
       "      <th>Estrogen Status</th>\n",
       "      <th>Progesterone Status</th>\n",
       "      <th>Regional Node Examined</th>\n",
       "      <th>Reginol Node Positive</th>\n",
       "      <th>Survival Months</th>\n",
       "      <th>Status</th>\n",
       "    </tr>\n",
       "  </thead>\n",
       "  <tbody>\n",
       "    <tr>\n",
       "      <th>0</th>\n",
       "      <td>68</td>\n",
       "      <td>White</td>\n",
       "      <td>Married</td>\n",
       "      <td>T1</td>\n",
       "      <td>N1</td>\n",
       "      <td>IIA</td>\n",
       "      <td>Poorly differentiated</td>\n",
       "      <td>3</td>\n",
       "      <td>Regional</td>\n",
       "      <td>4</td>\n",
       "      <td>Positive</td>\n",
       "      <td>Positive</td>\n",
       "      <td>24</td>\n",
       "      <td>1</td>\n",
       "      <td>60</td>\n",
       "      <td>Alive</td>\n",
       "    </tr>\n",
       "    <tr>\n",
       "      <th>1</th>\n",
       "      <td>50</td>\n",
       "      <td>White</td>\n",
       "      <td>Married</td>\n",
       "      <td>T2</td>\n",
       "      <td>N2</td>\n",
       "      <td>IIIA</td>\n",
       "      <td>Moderately differentiated</td>\n",
       "      <td>2</td>\n",
       "      <td>Regional</td>\n",
       "      <td>35</td>\n",
       "      <td>Positive</td>\n",
       "      <td>Positive</td>\n",
       "      <td>14</td>\n",
       "      <td>5</td>\n",
       "      <td>62</td>\n",
       "      <td>Alive</td>\n",
       "    </tr>\n",
       "    <tr>\n",
       "      <th>2</th>\n",
       "      <td>58</td>\n",
       "      <td>White</td>\n",
       "      <td>Divorced</td>\n",
       "      <td>T3</td>\n",
       "      <td>N3</td>\n",
       "      <td>IIIC</td>\n",
       "      <td>Moderately differentiated</td>\n",
       "      <td>2</td>\n",
       "      <td>Regional</td>\n",
       "      <td>63</td>\n",
       "      <td>Positive</td>\n",
       "      <td>Positive</td>\n",
       "      <td>14</td>\n",
       "      <td>7</td>\n",
       "      <td>75</td>\n",
       "      <td>Alive</td>\n",
       "    </tr>\n",
       "    <tr>\n",
       "      <th>3</th>\n",
       "      <td>58</td>\n",
       "      <td>White</td>\n",
       "      <td>Married</td>\n",
       "      <td>T1</td>\n",
       "      <td>N1</td>\n",
       "      <td>IIA</td>\n",
       "      <td>Poorly differentiated</td>\n",
       "      <td>3</td>\n",
       "      <td>Regional</td>\n",
       "      <td>18</td>\n",
       "      <td>Positive</td>\n",
       "      <td>Positive</td>\n",
       "      <td>2</td>\n",
       "      <td>1</td>\n",
       "      <td>84</td>\n",
       "      <td>Alive</td>\n",
       "    </tr>\n",
       "    <tr>\n",
       "      <th>4</th>\n",
       "      <td>47</td>\n",
       "      <td>White</td>\n",
       "      <td>Married</td>\n",
       "      <td>T2</td>\n",
       "      <td>N1</td>\n",
       "      <td>IIB</td>\n",
       "      <td>Poorly differentiated</td>\n",
       "      <td>3</td>\n",
       "      <td>Regional</td>\n",
       "      <td>41</td>\n",
       "      <td>Positive</td>\n",
       "      <td>Positive</td>\n",
       "      <td>3</td>\n",
       "      <td>1</td>\n",
       "      <td>50</td>\n",
       "      <td>Alive</td>\n",
       "    </tr>\n",
       "  </tbody>\n",
       "</table>\n",
       "</div>"
      ],
      "text/plain": [
       "   Age   Race Marital Status T Stage N Stage 6th Stage  \\\n",
       "0   68  White        Married      T1      N1       IIA   \n",
       "1   50  White        Married      T2      N2      IIIA   \n",
       "2   58  White       Divorced      T3      N3      IIIC   \n",
       "3   58  White        Married      T1      N1       IIA   \n",
       "4   47  White        Married      T2      N1       IIB   \n",
       "\n",
       "               differentiate Grade   A Stage  Tumor Size Estrogen Status  \\\n",
       "0      Poorly differentiated     3  Regional           4        Positive   \n",
       "1  Moderately differentiated     2  Regional          35        Positive   \n",
       "2  Moderately differentiated     2  Regional          63        Positive   \n",
       "3      Poorly differentiated     3  Regional          18        Positive   \n",
       "4      Poorly differentiated     3  Regional          41        Positive   \n",
       "\n",
       "  Progesterone Status  Regional Node Examined  Reginol Node Positive  \\\n",
       "0            Positive                      24                      1   \n",
       "1            Positive                      14                      5   \n",
       "2            Positive                      14                      7   \n",
       "3            Positive                       2                      1   \n",
       "4            Positive                       3                      1   \n",
       "\n",
       "   Survival Months Status  \n",
       "0               60  Alive  \n",
       "1               62  Alive  \n",
       "2               75  Alive  \n",
       "3               84  Alive  \n",
       "4               50  Alive  "
      ]
     },
     "execution_count": 16,
     "metadata": {},
     "output_type": "execute_result"
    }
   ],
   "source": [
    "data.head()"
   ]
  },
  {
   "cell_type": "markdown",
   "id": "continental-satisfaction",
   "metadata": {},
   "source": [
    "Dimension of the data"
   ]
  },
  {
   "cell_type": "code",
   "execution_count": 11,
   "id": "deadly-guitar",
   "metadata": {},
   "outputs": [
    {
     "data": {
      "text/plain": [
       "(4024, 16)"
      ]
     },
     "execution_count": 11,
     "metadata": {},
     "output_type": "execute_result"
    }
   ],
   "source": [
    "data.shape"
   ]
  },
  {
   "cell_type": "markdown",
   "id": "invisible-singles",
   "metadata": {},
   "source": [
    "The data contain 4024 rows for each patient and 16 columns."
   ]
  },
  {
   "cell_type": "markdown",
   "id": "criminal-plaintiff",
   "metadata": {},
   "source": [
    "The column names"
   ]
  },
  {
   "cell_type": "code",
   "execution_count": 5,
   "id": "legendary-effectiveness",
   "metadata": {},
   "outputs": [
    {
     "data": {
      "text/plain": [
       "Index(['Age', 'Race', 'Marital Status', 'T Stage ', 'N Stage', '6th Stage',\n",
       "       'differentiate', 'Grade', 'A Stage', 'Tumor Size', 'Estrogen Status',\n",
       "       'Progesterone Status', 'Regional Node Examined',\n",
       "       'Reginol Node Positive', 'Survival Months', 'Status'],\n",
       "      dtype='object')"
      ]
     },
     "execution_count": 5,
     "metadata": {},
     "output_type": "execute_result"
    }
   ],
   "source": [
    "data.columns"
   ]
  },
  {
   "cell_type": "code",
   "execution_count": 3,
   "id": "automated-cartoon",
   "metadata": {},
   "outputs": [],
   "source": [
    "data.rename(columns = {'T Stage ': 'T Stage'}, inplace = True)"
   ]
  },
  {
   "cell_type": "code",
   "execution_count": 4,
   "id": "subjective-paintball",
   "metadata": {},
   "outputs": [
    {
     "data": {
      "text/plain": [
       "array(['T1', 'T2', 'T3', 'T4'], dtype=object)"
      ]
     },
     "execution_count": 4,
     "metadata": {},
     "output_type": "execute_result"
    }
   ],
   "source": [
    "data['T Stage'].unique()"
   ]
  },
  {
   "cell_type": "code",
   "execution_count": 5,
   "id": "radical-effectiveness",
   "metadata": {},
   "outputs": [],
   "source": [
    "data['Grade'] = data.Grade.replace(' anaplastic; Grade IV', \"4\")"
   ]
  },
  {
   "cell_type": "code",
   "execution_count": 6,
   "id": "postal-analysis",
   "metadata": {},
   "outputs": [
    {
     "data": {
      "text/plain": [
       "array(['3', '2', '1', '4'], dtype=object)"
      ]
     },
     "execution_count": 6,
     "metadata": {},
     "output_type": "execute_result"
    }
   ],
   "source": [
    "data.Grade.unique()"
   ]
  },
  {
   "cell_type": "markdown",
   "id": "superior-enhancement",
   "metadata": {},
   "source": [
    "Check for NaN values"
   ]
  },
  {
   "cell_type": "code",
   "execution_count": 7,
   "id": "mature-picking",
   "metadata": {},
   "outputs": [
    {
     "data": {
      "text/plain": [
       "False"
      ]
     },
     "execution_count": 7,
     "metadata": {},
     "output_type": "execute_result"
    }
   ],
   "source": [
    "data.isnull().values.any()"
   ]
  },
  {
   "cell_type": "markdown",
   "id": "mediterranean-brass",
   "metadata": {},
   "source": [
    "fortunately, there is no NaN's :)"
   ]
  },
  {
   "cell_type": "markdown",
   "id": "electoral-clark",
   "metadata": {},
   "source": [
    "Descriptive statistics"
   ]
  },
  {
   "cell_type": "code",
   "execution_count": 7,
   "id": "experienced-chinese",
   "metadata": {},
   "outputs": [
    {
     "data": {
      "text/html": [
       "<div>\n",
       "<style scoped>\n",
       "    .dataframe tbody tr th:only-of-type {\n",
       "        vertical-align: middle;\n",
       "    }\n",
       "\n",
       "    .dataframe tbody tr th {\n",
       "        vertical-align: top;\n",
       "    }\n",
       "\n",
       "    .dataframe thead th {\n",
       "        text-align: right;\n",
       "    }\n",
       "</style>\n",
       "<table border=\"1\" class=\"dataframe\">\n",
       "  <thead>\n",
       "    <tr style=\"text-align: right;\">\n",
       "      <th></th>\n",
       "      <th>Age</th>\n",
       "      <th>Tumor Size</th>\n",
       "      <th>Regional Node Examined</th>\n",
       "      <th>Reginol Node Positive</th>\n",
       "      <th>Survival Months</th>\n",
       "    </tr>\n",
       "  </thead>\n",
       "  <tbody>\n",
       "    <tr>\n",
       "      <th>count</th>\n",
       "      <td>4024.000000</td>\n",
       "      <td>4024.000000</td>\n",
       "      <td>4024.000000</td>\n",
       "      <td>4024.000000</td>\n",
       "      <td>4024.000000</td>\n",
       "    </tr>\n",
       "    <tr>\n",
       "      <th>mean</th>\n",
       "      <td>53.972167</td>\n",
       "      <td>30.473658</td>\n",
       "      <td>14.357107</td>\n",
       "      <td>4.158052</td>\n",
       "      <td>71.297962</td>\n",
       "    </tr>\n",
       "    <tr>\n",
       "      <th>std</th>\n",
       "      <td>8.963134</td>\n",
       "      <td>21.119696</td>\n",
       "      <td>8.099675</td>\n",
       "      <td>5.109331</td>\n",
       "      <td>22.921430</td>\n",
       "    </tr>\n",
       "    <tr>\n",
       "      <th>min</th>\n",
       "      <td>30.000000</td>\n",
       "      <td>1.000000</td>\n",
       "      <td>1.000000</td>\n",
       "      <td>1.000000</td>\n",
       "      <td>1.000000</td>\n",
       "    </tr>\n",
       "    <tr>\n",
       "      <th>25%</th>\n",
       "      <td>47.000000</td>\n",
       "      <td>16.000000</td>\n",
       "      <td>9.000000</td>\n",
       "      <td>1.000000</td>\n",
       "      <td>56.000000</td>\n",
       "    </tr>\n",
       "    <tr>\n",
       "      <th>50%</th>\n",
       "      <td>54.000000</td>\n",
       "      <td>25.000000</td>\n",
       "      <td>14.000000</td>\n",
       "      <td>2.000000</td>\n",
       "      <td>73.000000</td>\n",
       "    </tr>\n",
       "    <tr>\n",
       "      <th>75%</th>\n",
       "      <td>61.000000</td>\n",
       "      <td>38.000000</td>\n",
       "      <td>19.000000</td>\n",
       "      <td>5.000000</td>\n",
       "      <td>90.000000</td>\n",
       "    </tr>\n",
       "    <tr>\n",
       "      <th>max</th>\n",
       "      <td>69.000000</td>\n",
       "      <td>140.000000</td>\n",
       "      <td>61.000000</td>\n",
       "      <td>46.000000</td>\n",
       "      <td>107.000000</td>\n",
       "    </tr>\n",
       "  </tbody>\n",
       "</table>\n",
       "</div>"
      ],
      "text/plain": [
       "               Age   Tumor Size  Regional Node Examined  \\\n",
       "count  4024.000000  4024.000000             4024.000000   \n",
       "mean     53.972167    30.473658               14.357107   \n",
       "std       8.963134    21.119696                8.099675   \n",
       "min      30.000000     1.000000                1.000000   \n",
       "25%      47.000000    16.000000                9.000000   \n",
       "50%      54.000000    25.000000               14.000000   \n",
       "75%      61.000000    38.000000               19.000000   \n",
       "max      69.000000   140.000000               61.000000   \n",
       "\n",
       "       Reginol Node Positive  Survival Months  \n",
       "count            4024.000000      4024.000000  \n",
       "mean                4.158052        71.297962  \n",
       "std                 5.109331        22.921430  \n",
       "min                 1.000000         1.000000  \n",
       "25%                 1.000000        56.000000  \n",
       "50%                 2.000000        73.000000  \n",
       "75%                 5.000000        90.000000  \n",
       "max                46.000000       107.000000  "
      ]
     },
     "execution_count": 7,
     "metadata": {},
     "output_type": "execute_result"
    }
   ],
   "source": [
    "data.describe()"
   ]
  },
  {
   "cell_type": "markdown",
   "id": "published-market",
   "metadata": {},
   "source": [
    "Check for correlation between the variables to get some intuition"
   ]
  },
  {
   "cell_type": "code",
   "execution_count": 37,
   "id": "labeled-wednesday",
   "metadata": {},
   "outputs": [
    {
     "data": {
      "text/plain": [
       "<AxesSubplot:>"
      ]
     },
     "execution_count": 37,
     "metadata": {},
     "output_type": "execute_result"
    },
    {
     "data": {
      "image/png": "[encoded data removed]",
      "text/plain": [
       "<Figure size 432x288 with 2 Axes>"
      ]
     },
     "metadata": {},
     "output_type": "display_data"
    }
   ],
   "source": [
    "correlation = data.corr()\n",
    "mask = np.triu(np.ones_like(correlation, dtype=bool))\n",
    "sns.heatmap(correlation, mask = mask, annot = True)"
   ]
  },
  {
   "cell_type": "markdown",
   "id": "retained-recall",
   "metadata": {},
   "source": [
    "From the heatmap above, we can see that there is no strong  (linear) correlation between the variables.\n",
    "So we need another approach to find a correlation, let's look at the data again by plotting it."
   ]
  },
  {
   "cell_type": "code",
   "execution_count": 23,
   "id": "abroad-source",
   "metadata": {},
   "outputs": [
    {
     "data": {
      "text/plain": [
       "Text(0.5, 1.0, 'Status Distribution')"
      ]
     },
     "execution_count": 23,
     "metadata": {},
     "output_type": "execute_result"
    },
    {
     "data": {
      "image/png": "[encoded data removed]",
      "text/plain": [
       "<Figure size 2160x7200 with 11 Axes>"
      ]
     },
     "metadata": {},
     "output_type": "display_data"
    }
   ],
   "source": [
    "plt.figure(figsize = (30,100))\n",
    "\n",
    "plt.subplot(11, 3, 1)\n",
    "sns.histplot(x = 'Age', data = data, kde = True)\n",
    "plt.title(\"Age Distribution\")\n",
    "\n",
    "plt.subplot(11, 3, 2)\n",
    "sns.countplot(x = 'Race', data = data)\n",
    "plt.title(\"Race Distribution\")\n",
    "\n",
    "plt.subplot(11, 3, 3)\n",
    "sns.countplot(x = 'Marital Status', data = data)\n",
    "plt.title(\"Marital Status Distribution\")\n",
    "\n",
    "plt.subplot(11, 3 ,4)\n",
    "sns.countplot(x = 'T Stage', data = data)\n",
    "plt.title(\"T Stage Distribution\")\n",
    "\n",
    "plt.subplot(11, 3 ,5)\n",
    "sns.countplot(x = 'N Stage', data = data)\n",
    "plt.title(\"N Stage Distribution\")\n",
    "\n",
    "plt.subplot(11, 3 ,6)\n",
    "sns.countplot(x = '6th Stage', data = data)\n",
    "plt.title(\"6th Stage Distribution\")\n",
    "\n",
    "plt.subplot(11, 3 ,7)\n",
    "sns.countplot(x = 'differentiate', data = data)\n",
    "plt.title(\"Differentiate Distribution\")\n",
    "\n",
    "plt.subplot(11, 3 ,8)\n",
    "sns.countplot(x = 'Grade', data = data)\n",
    "plt.title(\"Grade Distribution\")\n",
    "\n",
    "plt.subplot(11, 3 ,9)\n",
    "sns.countplot(x = 'Estrogen Status', data = data)\n",
    "plt.title(\"Estrogen Status Distribution\")\n",
    "\n",
    "plt.subplot(11, 3 ,10)\n",
    "sns.countplot(x = 'Progesterone Status', data = data)\n",
    "plt.title(\"Progesterone Status Distribution\")\n",
    "\n",
    "plt.subplot(11, 3 ,11)\n",
    "sns.countplot(x = 'Status', data = data)\n",
    "plt.title(\"Status Distribution\")"
   ]
  },
  {
   "cell_type": "markdown",
   "id": "essential-interest",
   "metadata": {},
   "source": [
    "From the plots above we can conclude that:\n",
    "- Most of the patients are white, between the ages of 45-70 and married.\n",
    "- The common cancer grade is 2, meaning that the cancer cells don't look like normal cells and are growing faster than normal cells.\n",
    "- 6th Stage is a combination of T stage and N stage. We can see that the commons stages are IIA, IIB and IIIA.\n",
    "- Differentiate describes how much or how little tumor tissue looks like the normal tissue it came from. Here. we can see that most of the tumors are moderatly differentiated, meaning that the cancer cells tend to grow and spread more fast than poorly differentiated or well-differentiated cancer cells.\n",
    "- Most of the tumors have receptors for estrogen and progesterone.\n",
    "- Most of the patients are alive."
   ]
  },
  {
   "cell_type": "markdown",
   "id": "alpine-angola",
   "metadata": {},
   "source": [
    "### Model Building\n",
    "To predict if a patient will die or not, there is need of classification approches.\n",
    "\n",
    "First, let's split the data to feature matrix (X) and target variable (y)."
   ]
  },
  {
   "cell_type": "code",
   "execution_count": 7,
   "id": "technological-yacht",
   "metadata": {},
   "outputs": [],
   "source": [
    "X = data.iloc[:,:-1].values\n",
    "y = data.iloc[:, -1].values"
   ]
  },
  {
   "cell_type": "markdown",
   "id": "considerable-highlight",
   "metadata": {},
   "source": [
    "##### Encoding the categorial variables "
   ]
  },
  {
   "cell_type": "code",
   "execution_count": 8,
   "id": "proper-liberia",
   "metadata": {},
   "outputs": [],
   "source": [
    "from sklearn.compose import ColumnTransformer\n",
    "from sklearn.preprocessing import OneHotEncoder\n",
    "ct = ColumnTransformer(transformers=[('encoder', OneHotEncoder(), [1,2,3,4,5,6,8,10,11])],\n",
    "                       remainder='passthrough')\n",
    "X = np.array(ct.fit_transform(X))"
   ]
  },
  {
   "cell_type": "code",
   "execution_count": 33,
   "id": "identified-notification",
   "metadata": {},
   "outputs": [
    {
     "name": "stdout",
     "output_type": "stream",
     "text": [
      "(4024, 36)\n"
     ]
    },
    {
     "data": {
      "text/plain": [
       "array([[0.0, 0.0, 1.0, ..., 24, 1, 60],\n",
       "       [0.0, 0.0, 1.0, ..., 14, 5, 62],\n",
       "       [0.0, 0.0, 1.0, ..., 14, 7, 75],\n",
       "       ...,\n",
       "       [0.0, 0.0, 1.0, ..., 11, 3, 69],\n",
       "       [1.0, 0.0, 0.0, ..., 11, 1, 72],\n",
       "       [0.0, 0.0, 1.0, ..., 7, 2, 100]], dtype=object)"
      ]
     },
     "execution_count": 33,
     "metadata": {},
     "output_type": "execute_result"
    }
   ],
   "source": [
    "print(X.shape)\n",
    "X"
   ]
  },
  {
   "cell_type": "code",
   "execution_count": 9,
   "id": "lightweight-recipe",
   "metadata": {},
   "outputs": [
    {
     "name": "stdout",
     "output_type": "stream",
     "text": [
      "['Alive' 'Dead']\n"
     ]
    }
   ],
   "source": [
    "from sklearn import preprocessing\n",
    "le = preprocessing.LabelEncoder()\n",
    "le.fit(np.unique(y))\n",
    "print(le.classes_)\n",
    "y = le.transform(y)"
   ]
  },
  {
   "cell_type": "code",
   "execution_count": 35,
   "id": "latin-option",
   "metadata": {},
   "outputs": [
    {
     "data": {
      "text/plain": [
       "array([0, 0, 0, ..., 0, 0, 0])"
      ]
     },
     "execution_count": 35,
     "metadata": {},
     "output_type": "execute_result"
    }
   ],
   "source": [
    "y"
   ]
  },
  {
   "cell_type": "markdown",
   "id": "regulated-algeria",
   "metadata": {},
   "source": [
    "Alive - 0\n",
    "\n",
    "Dead - 1"
   ]
  },
  {
   "cell_type": "markdown",
   "id": "freelance-parts",
   "metadata": {},
   "source": [
    "##### Splitting the dataset into the Training set and Test set"
   ]
  },
  {
   "cell_type": "code",
   "execution_count": 10,
   "id": "infinite-answer",
   "metadata": {},
   "outputs": [],
   "source": [
    "from sklearn.model_selection import train_test_split\n",
    "X_train, X_test, y_train, y_test = train_test_split(X, y, test_size=0.2,\n",
    "                                                    random_state=0)"
   ]
  },
  {
   "cell_type": "markdown",
   "id": "large-logging",
   "metadata": {},
   "source": [
    "Feature Scaling"
   ]
  },
  {
   "cell_type": "code",
   "execution_count": 11,
   "id": "latest-holocaust",
   "metadata": {},
   "outputs": [],
   "source": [
    "from sklearn.preprocessing import StandardScaler\n",
    "sc = StandardScaler()\n",
    "X_train = sc.fit_transform(X_train)\n",
    "X_test = sc.transform(X_test)"
   ]
  },
  {
   "cell_type": "markdown",
   "id": "answering-billy",
   "metadata": {},
   "source": [
    "Now, let's try some classification algorithms to predict whether a patient will die given the features in the data frame."
   ]
  },
  {
   "cell_type": "code",
   "execution_count": 12,
   "id": "useful-directory",
   "metadata": {},
   "outputs": [],
   "source": [
    "from sklearn.metrics import confusion_matrix, accuracy_score, ConfusionMatrixDisplay"
   ]
  },
  {
   "cell_type": "code",
   "execution_count": 13,
   "id": "increasing-mountain",
   "metadata": {},
   "outputs": [],
   "source": [
    "def fit_predict_accuracy(clf, Xtrain, ytrain, Xtest, ytest):\n",
    "    clf.fit(Xtrain, ytrain)\n",
    "    \n",
    "    y_pred = clf.predict(Xtest)\n",
    "    \n",
    "    from sklearn.metrics import confusion_matrix, accuracy_score, ConfusionMatrixDisplay\n",
    "    print(\"prediction vs real\")\n",
    "    print(np.concatenate((y_pred.reshape(len(y_pred), 1), ytest.reshape(len(ytest), 1)),\n",
    "                     axis=1))\n",
    "    cm = confusion_matrix(ytest, y_pred)\n",
    "    print(\"\\nconfusion matrix\\n\", cm)\n",
    "    print(\"accuracy score: \",accuracy_score(ytest, y_pred))\n",
    "    disp = ConfusionMatrixDisplay(confusion_matrix = cm, display_labels=clf.classes_)\n",
    "    sns.set_style(\"white\")\n",
    "    disp.plot()\n",
    "    return accuracy_score(ytest, y_pred)"
   ]
  },
  {
   "cell_type": "code",
   "execution_count": 14,
   "id": "metropolitan-ensemble",
   "metadata": {},
   "outputs": [],
   "source": [
    "acc_dict = {\"Logistic regression\": 0,\n",
    "                \"SVM\": 0,\n",
    "                \"Kernel SVM\": 0,\n",
    "                \"K-NN\": 0,\n",
    "                \"Decision tree\": 0}"
   ]
  },
  {
   "cell_type": "markdown",
   "id": "asian-wrapping",
   "metadata": {},
   "source": [
    "#### **Logistic Regression**"
   ]
  },
  {
   "cell_type": "code",
   "execution_count": 15,
   "id": "supposed-settle",
   "metadata": {},
   "outputs": [
    {
     "name": "stdout",
     "output_type": "stream",
     "text": [
      "prediction vs real\n",
      "[[0 0]\n",
      " [1 0]\n",
      " [0 0]\n",
      " ...\n",
      " [0 0]\n",
      " [0 0]\n",
      " [0 0]]\n",
      "\n",
      "confusion matrix\n",
      " [[668  13]\n",
      " [ 75  49]]\n",
      "accuracy score:  0.8906832298136645\n"
     ]
    },
    {
     "data": {
      "image/png": "[encoded data removed]",
      "text/plain": [
       "<Figure size 432x288 with 2 Axes>"
      ]
     },
     "metadata": {},
     "output_type": "display_data"
    }
   ],
   "source": [
    "from sklearn.linear_model import LogisticRegression\n",
    "classifier = LogisticRegression(random_state=0)\n",
    "\n",
    "acc_dict[\"Logistic regression\"] = fit_predict_accuracy(classifier, X_train, y_train, X_test, y_test)"
   ]
  },
  {
   "cell_type": "markdown",
   "id": "sunset-inventory",
   "metadata": {},
   "source": [
    "#### **SVM**"
   ]
  },
  {
   "cell_type": "code",
   "execution_count": 16,
   "id": "capable-trustee",
   "metadata": {},
   "outputs": [
    {
     "name": "stdout",
     "output_type": "stream",
     "text": [
      "prediction vs real\n",
      "[[0 0]\n",
      " [1 0]\n",
      " [0 0]\n",
      " ...\n",
      " [0 0]\n",
      " [0 0]\n",
      " [0 0]]\n",
      "\n",
      "confusion matrix\n",
      " [[670  11]\n",
      " [ 76  48]]\n",
      "accuracy score:  0.8919254658385093\n"
     ]
    },
    {
     "data": {
      "image/png": "[encoded data removed]",
      "text/plain": [
       "<Figure size 432x288 with 2 Axes>"
      ]
     },
     "metadata": {},
     "output_type": "display_data"
    }
   ],
   "source": [
    "from sklearn.svm import SVC\n",
    "classifier = SVC(kernel='linear', random_state=0)\n",
    "\n",
    "acc_dict[\"SVM\"] = fit_predict_accuracy(classifier, X_train, y_train, X_test, y_test)"
   ]
  },
  {
   "cell_type": "markdown",
   "id": "natural-financing",
   "metadata": {},
   "source": [
    "#### **Kernel SVM**"
   ]
  },
  {
   "cell_type": "code",
   "execution_count": 17,
   "id": "compliant-church",
   "metadata": {},
   "outputs": [
    {
     "name": "stdout",
     "output_type": "stream",
     "text": [
      "prediction vs real\n",
      "[[0 0]\n",
      " [0 0]\n",
      " [0 0]\n",
      " ...\n",
      " [0 0]\n",
      " [0 0]\n",
      " [0 0]]\n",
      "\n",
      "confusion matrix\n",
      " [[671  10]\n",
      " [ 85  39]]\n",
      "accuracy score:  0.8819875776397516\n"
     ]
    },
    {
     "data": {
      "image/png": "[encoded data removed]",
      "text/plain": [
       "<Figure size 432x288 with 2 Axes>"
      ]
     },
     "metadata": {},
     "output_type": "display_data"
    }
   ],
   "source": [
    "classifier = SVC(kernel='rbf', random_state=0)\n",
    "\n",
    "acc_dict[\"Kernel SVM\"] = fit_predict_accuracy(classifier, X_train, y_train, X_test, y_test)"
   ]
  },
  {
   "cell_type": "markdown",
   "id": "adapted-domain",
   "metadata": {},
   "source": [
    "#### **K-NN**"
   ]
  },
  {
   "cell_type": "code",
   "execution_count": 18,
   "id": "exceptional-installation",
   "metadata": {},
   "outputs": [
    {
     "name": "stdout",
     "output_type": "stream",
     "text": [
      "prediction vs real\n",
      "[[1 0]\n",
      " [0 0]\n",
      " [0 0]\n",
      " ...\n",
      " [0 0]\n",
      " [0 0]\n",
      " [0 0]]\n",
      "\n",
      "confusion matrix\n",
      " [[666  15]\n",
      " [100  24]]\n",
      "accuracy score:  0.8571428571428571\n"
     ]
    },
    {
     "data": {
      "image/png": "[encoded data removed]",
      "text/plain": [
       "<Figure size 432x288 with 2 Axes>"
      ]
     },
     "metadata": {},
     "output_type": "display_data"
    }
   ],
   "source": [
    "from sklearn.neighbors import KNeighborsClassifier\n",
    "classifier = KNeighborsClassifier(n_neighbors=7, metric='minkowski', p=2)\n",
    "\n",
    "acc_dict[\"K-NN\"] = fit_predict_accuracy(classifier, X_train, y_train, X_test, y_test)"
   ]
  },
  {
   "cell_type": "markdown",
   "id": "bigger-volunteer",
   "metadata": {},
   "source": [
    "#### **Decision Tree**"
   ]
  },
  {
   "cell_type": "code",
   "execution_count": 19,
   "id": "stainless-dubai",
   "metadata": {},
   "outputs": [
    {
     "name": "stdout",
     "output_type": "stream",
     "text": [
      "prediction vs real\n",
      "[[1 0]\n",
      " [1 0]\n",
      " [0 0]\n",
      " ...\n",
      " [0 0]\n",
      " [0 0]\n",
      " [0 0]]\n",
      "\n",
      "confusion matrix\n",
      " [[619  62]\n",
      " [ 78  46]]\n",
      "accuracy score:  0.8260869565217391\n"
     ]
    },
    {
     "data": {
      "image/png": "[encoded data removed]",
      "text/plain": [
       "<Figure size 432x288 with 2 Axes>"
      ]
     },
     "metadata": {},
     "output_type": "display_data"
    }
   ],
   "source": [
    "from sklearn.tree import DecisionTreeClassifier\n",
    "classifier = DecisionTreeClassifier(criterion='entropy', random_state=0)\n",
    "\n",
    "acc_dict[\"Decision tree\"] = fit_predict_accuracy(classifier, X_train, y_train, X_test, y_test)"
   ]
  },
  {
   "cell_type": "markdown",
   "id": "coordinate-saying",
   "metadata": {},
   "source": [
    "We can see that none of the models above represent good performence. The data may contain some features that doesn't contributes to the model, so we'll try to reduce features using the feature selection class from Sicikit-learn.\n",
    "\n",
    "There is no need to do feature selection to the decision tree model, because the algorithm perform feature selection automatically as part of learning the model.  \n",
    "My guess is the race and martial status will not be included after the selection."
   ]
  },
  {
   "cell_type": "code",
   "execution_count": 20,
   "id": "criminal-culture",
   "metadata": {},
   "outputs": [],
   "source": [
    "global best_acc_dict\n",
    "best_acc_dict = {\"Logistic regression\": [0, 36],\n",
    "                \"SVM\": [0, 36],\n",
    "                \"Kernel SVM\": [0, 36],\n",
    "                \"K-NN\": [0, 36],\n",
    "                \"Decision tree\": [acc_dict['Decision tree'],\"all\"]}\n",
    "global methods_list\n",
    "methods_list = list(best_acc_dict.keys())"
   ]
  },
  {
   "cell_type": "code",
   "execution_count": 21,
   "id": "sitting-baghdad",
   "metadata": {},
   "outputs": [],
   "source": [
    "def get_best_n_featuresacc_score(j, clf, Xtrain, ytrain, Xtest, ytest):\n",
    "    global best_acc_dict\n",
    "    \n",
    "    clf.fit(Xtrain, ytrain)\n",
    "    y_pred = clf.predict(Xtest)\n",
    "    acc_score = accuracy_score(ytest, y_pred)\n",
    "    if best_acc_dict[j][0] < acc_score:\n",
    "        best_acc_dict[j][0] = acc_score\n",
    "        best_acc_dict[j][1] = i\n"
   ]
  },
  {
   "cell_type": "code",
   "execution_count": 22,
   "id": "furnished-starter",
   "metadata": {},
   "outputs": [],
   "source": [
    "from sklearn.feature_selection import SelectKBest\n",
    "from sklearn.feature_selection import chi2\n",
    "\n",
    "for i in range(1, 37):\n",
    "    SKB = SelectKBest(chi2, k=i)\n",
    "    X_new = SKB.fit_transform(X, y)\n",
    "    X_train, X_test, y_train, y_test = train_test_split(X_new, y, test_size=0.2,\n",
    "                                                    random_state=0)\n",
    "    for n, j in enumerate(methods_list):\n",
    "        # Logisitic regression\n",
    "        if n == 0:\n",
    "            classifier = LogisticRegression(max_iter = 1000,random_state=0)\n",
    "            get_best_n_featuresacc_score(j, classifier, X_train, y_train, X_test, y_test)\n",
    "        \n",
    "        if n == 1:\n",
    "            classifier = SVC(kernel='linear', random_state=0)\n",
    "            get_best_n_featuresacc_score(j, classifier, X_train, y_train, X_test, y_test)\n",
    "            \n",
    "        if n == 2:\n",
    "            classifier = SVC(kernel='rbf', random_state=0)\n",
    "            get_best_n_featuresacc_score(j, classifier, X_train, y_train, X_test, y_test)\n",
    "        \n",
    "        if n == 3:\n",
    "            classifier = KNeighborsClassifier(n_neighbors=7, metric='minkowski', p=2)\n",
    "            get_best_n_featuresacc_score(j, classifier, X_train, y_train, X_test, y_test)\n",
    "            \n",
    "    "
   ]
  },
  {
   "cell_type": "code",
   "execution_count": 95,
   "id": "innovative-setup",
   "metadata": {},
   "outputs": [
    {
     "data": {
      "text/plain": [
       "{'Logistic regression': [0.8968944099378882, 15],\n",
       " 'SVM': [0.8968944099378882, 19],\n",
       " 'Kernel SVM': [0.8981366459627329, 2],\n",
       " 'K-NN': [0.8944099378881988, 19],\n",
       " 'Decision tree': [0.884472049689441, 1]}"
      ]
     },
     "execution_count": 95,
     "metadata": {},
     "output_type": "execute_result"
    }
   ],
   "source": [
    "best_acc_dict"
   ]
  },
  {
   "cell_type": "markdown",
   "id": "bibliographic-partner",
   "metadata": {},
   "source": [
    "Now, let's create data frame with the accuracy scores, before and after the feature selection and with the relevant columns we got from SelectKBest class."
   ]
  },
  {
   "cell_type": "code",
   "execution_count": 29,
   "id": "engaged-secretary",
   "metadata": {},
   "outputs": [],
   "source": [
    "def get_features_name(best_k, X, y):\n",
    "    skb = SelectKBest(chi2, k=best_k)\n",
    "    X_new = skb.fit_transform(X, y)\n",
    "    cols = skb.get_support(indices=True)\n",
    "#     features = X[:,cols] # feature matrix without column names, np array\n",
    "    column_names = pd.get_dummies(data).columns[cols]\n",
    "\n",
    "    return column_names"
   ]
  },
  {
   "cell_type": "code",
   "execution_count": 30,
   "id": "indian-campbell",
   "metadata": {},
   "outputs": [
    {
     "name": "stdout",
     "output_type": "stream",
     "text": [
      "\u001b[1mLogistic regression  best features:\n",
      "\u001b[0m Index(['Marital Status_Divorced', 'Marital Status_Single ',\n",
      "       'Marital Status_Widowed', 'T Stage_T2', 'T Stage_T3', 'N Stage_N3',\n",
      "       '6th Stage_IIB', '6th Stage_IIIB', '6th Stage_IIIC',\n",
      "       'differentiate_Poorly differentiated',\n",
      "       'differentiate_Well differentiated', 'Grade_4', 'A Stage_Distant',\n",
      "       'A Stage_Regional', 'Estrogen Status_Negative'],\n",
      "      dtype='object') \n",
      "\n",
      "\u001b[1mSVM  best features:\n",
      "\u001b[0m Index(['Age', 'Marital Status_Divorced', 'Marital Status_Single ',\n",
      "       'Marital Status_Widowed', 'T Stage_T2', 'T Stage_T3', 'N Stage_N3',\n",
      "       '6th Stage_IIB', '6th Stage_IIIB', '6th Stage_IIIC',\n",
      "       'differentiate_Poorly differentiated',\n",
      "       'differentiate_Well differentiated', 'Grade_1', 'Grade_2', 'Grade_3',\n",
      "       'Grade_4', 'A Stage_Distant', 'A Stage_Regional',\n",
      "       'Estrogen Status_Negative'],\n",
      "      dtype='object') \n",
      "\n",
      "\u001b[1mKernel SVM  best features:\n",
      "\u001b[0m Index(['A Stage_Regional', 'Estrogen Status_Negative'], dtype='object') \n",
      "\n",
      "\u001b[1mK-NN  best features:\n",
      "\u001b[0m Index(['Age', 'Marital Status_Divorced', 'Marital Status_Single ',\n",
      "       'Marital Status_Widowed', 'T Stage_T2', 'T Stage_T3', 'N Stage_N3',\n",
      "       '6th Stage_IIB', '6th Stage_IIIB', '6th Stage_IIIC',\n",
      "       'differentiate_Poorly differentiated',\n",
      "       'differentiate_Well differentiated', 'Grade_1', 'Grade_2', 'Grade_3',\n",
      "       'Grade_4', 'A Stage_Distant', 'A Stage_Regional',\n",
      "       'Estrogen Status_Negative'],\n",
      "      dtype='object') \n",
      "\n",
      "\u001b[1mDecision tree  best features:\n",
      "\u001b[0m Index(['Age', 'Tumor Size', 'Regional Node Examined', 'Reginol Node Positive',\n",
      "       'Survival Months', 'Race_Black', 'Race_Other', 'Race_White',\n",
      "       'Marital Status_Divorced', 'Marital Status_Married',\n",
      "       'Marital Status_Separated', 'Marital Status_Single ',\n",
      "       'Marital Status_Widowed', 'T Stage_T1', 'T Stage_T2', 'T Stage_T3',\n",
      "       'T Stage_T4', 'N Stage_N1', 'N Stage_N2', 'N Stage_N3', '6th Stage_IIA',\n",
      "       '6th Stage_IIB', '6th Stage_IIIA', '6th Stage_IIIB', '6th Stage_IIIC',\n",
      "       'differentiate_Moderately differentiated',\n",
      "       'differentiate_Poorly differentiated', 'differentiate_Undifferentiated',\n",
      "       'differentiate_Well differentiated', 'Grade_1', 'Grade_2', 'Grade_3',\n",
      "       'Grade_4', 'A Stage_Distant', 'A Stage_Regional',\n",
      "       'Estrogen Status_Negative'],\n",
      "      dtype='object') \n",
      "\n"
     ]
    }
   ],
   "source": [
    "for n, j in enumerate(methods_list):\n",
    "    print('\\033[1m' + j, \" best features:\\n\" + '\\033[0m', get_features_name(best_acc_dict[j][1], X, y), \"\\n\")"
   ]
  },
  {
   "cell_type": "markdown",
   "id": "centered-toyota",
   "metadata": {},
   "source": [
    "So, I was right about the race was not included in the features after the selection, but I was wrong about the martial status, that does have some influence after all."
   ]
  },
  {
   "cell_type": "code",
   "execution_count": 31,
   "id": "overhead-reach",
   "metadata": {},
   "outputs": [
    {
     "data": {
      "text/html": [
       "<div>\n",
       "<style scoped>\n",
       "    .dataframe tbody tr th:only-of-type {\n",
       "        vertical-align: middle;\n",
       "    }\n",
       "\n",
       "    .dataframe tbody tr th {\n",
       "        vertical-align: top;\n",
       "    }\n",
       "\n",
       "    .dataframe thead th {\n",
       "        text-align: right;\n",
       "    }\n",
       "</style>\n",
       "<table border=\"1\" class=\"dataframe\">\n",
       "  <thead>\n",
       "    <tr style=\"text-align: right;\">\n",
       "      <th></th>\n",
       "      <th>Accuracy score before feature selection</th>\n",
       "    </tr>\n",
       "  </thead>\n",
       "  <tbody>\n",
       "    <tr>\n",
       "      <th>Logistic regression</th>\n",
       "      <td>0.890683</td>\n",
       "    </tr>\n",
       "    <tr>\n",
       "      <th>SVM</th>\n",
       "      <td>0.891925</td>\n",
       "    </tr>\n",
       "    <tr>\n",
       "      <th>Kernel SVM</th>\n",
       "      <td>0.881988</td>\n",
       "    </tr>\n",
       "    <tr>\n",
       "      <th>K-NN</th>\n",
       "      <td>0.857143</td>\n",
       "    </tr>\n",
       "    <tr>\n",
       "      <th>Decision tree</th>\n",
       "      <td>0.826087</td>\n",
       "    </tr>\n",
       "  </tbody>\n",
       "</table>\n",
       "</div>"
      ],
      "text/plain": [
       "                     Accuracy score before feature selection\n",
       "Logistic regression                                 0.890683\n",
       "SVM                                                 0.891925\n",
       "Kernel SVM                                          0.881988\n",
       "K-NN                                                0.857143\n",
       "Decision tree                                       0.826087"
      ]
     },
     "execution_count": 31,
     "metadata": {},
     "output_type": "execute_result"
    }
   ],
   "source": [
    "acc_df =  pd.DataFrame.from_dict(acc_dict, orient='index')\n",
    "acc_df.rename(columns={0:'Accuracy score before feature selection'}, inplace=True)\n",
    "acc_df"
   ]
  },
  {
   "cell_type": "code",
   "execution_count": 32,
   "id": "advised-antenna",
   "metadata": {},
   "outputs": [
    {
     "data": {
      "text/html": [
       "<div>\n",
       "<style scoped>\n",
       "    .dataframe tbody tr th:only-of-type {\n",
       "        vertical-align: middle;\n",
       "    }\n",
       "\n",
       "    .dataframe tbody tr th {\n",
       "        vertical-align: top;\n",
       "    }\n",
       "\n",
       "    .dataframe thead th {\n",
       "        text-align: right;\n",
       "    }\n",
       "</style>\n",
       "<table border=\"1\" class=\"dataframe\">\n",
       "  <thead>\n",
       "    <tr style=\"text-align: right;\">\n",
       "      <th></th>\n",
       "      <th>Accuracy score after feature selection</th>\n",
       "      <th>Number of features</th>\n",
       "    </tr>\n",
       "  </thead>\n",
       "  <tbody>\n",
       "    <tr>\n",
       "      <th>Logistic regression</th>\n",
       "      <td>0.896894</td>\n",
       "      <td>15</td>\n",
       "    </tr>\n",
       "    <tr>\n",
       "      <th>SVM</th>\n",
       "      <td>0.896894</td>\n",
       "      <td>19</td>\n",
       "    </tr>\n",
       "    <tr>\n",
       "      <th>Kernel SVM</th>\n",
       "      <td>0.898137</td>\n",
       "      <td>2</td>\n",
       "    </tr>\n",
       "    <tr>\n",
       "      <th>K-NN</th>\n",
       "      <td>0.894410</td>\n",
       "      <td>19</td>\n",
       "    </tr>\n",
       "    <tr>\n",
       "      <th>Decision tree</th>\n",
       "      <td>0.826087</td>\n",
       "      <td>all</td>\n",
       "    </tr>\n",
       "  </tbody>\n",
       "</table>\n",
       "</div>"
      ],
      "text/plain": [
       "                     Accuracy score after feature selection Number of features\n",
       "Logistic regression                                0.896894                 15\n",
       "SVM                                                0.896894                 19\n",
       "Kernel SVM                                         0.898137                  2\n",
       "K-NN                                               0.894410                 19\n",
       "Decision tree                                      0.826087                all"
      ]
     },
     "execution_count": 32,
     "metadata": {},
     "output_type": "execute_result"
    }
   ],
   "source": [
    "best_acc_df = pd.DataFrame.from_dict(best_acc_dict, orient='index')\n",
    "best_acc_df.rename(columns={0:'Accuracy score after feature selection', 1:\"Number of features\"}, inplace=True)\n",
    "best_acc_df"
   ]
  },
  {
   "cell_type": "code",
   "execution_count": 33,
   "id": "native-border",
   "metadata": {},
   "outputs": [
    {
     "data": {
      "text/html": [
       "<div>\n",
       "<style scoped>\n",
       "    .dataframe tbody tr th:only-of-type {\n",
       "        vertical-align: middle;\n",
       "    }\n",
       "\n",
       "    .dataframe tbody tr th {\n",
       "        vertical-align: top;\n",
       "    }\n",
       "\n",
       "    .dataframe thead th {\n",
       "        text-align: right;\n",
       "    }\n",
       "</style>\n",
       "<table border=\"1\" class=\"dataframe\">\n",
       "  <thead>\n",
       "    <tr style=\"text-align: right;\">\n",
       "      <th></th>\n",
       "      <th>Accuracy score before feature selection</th>\n",
       "      <th>Accuracy score after feature selection</th>\n",
       "      <th>Number of features</th>\n",
       "      <th>Columns names</th>\n",
       "    </tr>\n",
       "  </thead>\n",
       "  <tbody>\n",
       "    <tr>\n",
       "      <th>Logistic regression</th>\n",
       "      <td>0.890683</td>\n",
       "      <td>0.896894</td>\n",
       "      <td>15</td>\n",
       "      <td>[Marital Status_Divorced, Marital Status_Singl...</td>\n",
       "    </tr>\n",
       "    <tr>\n",
       "      <th>SVM</th>\n",
       "      <td>0.891925</td>\n",
       "      <td>0.896894</td>\n",
       "      <td>19</td>\n",
       "      <td>[Age, Marital Status_Divorced, Marital Status_...</td>\n",
       "    </tr>\n",
       "    <tr>\n",
       "      <th>Kernel SVM</th>\n",
       "      <td>0.881988</td>\n",
       "      <td>0.898137</td>\n",
       "      <td>2</td>\n",
       "      <td>[A Stage_Regional, Estrogen Status_Negative]</td>\n",
       "    </tr>\n",
       "    <tr>\n",
       "      <th>K-NN</th>\n",
       "      <td>0.857143</td>\n",
       "      <td>0.894410</td>\n",
       "      <td>19</td>\n",
       "      <td>[Age, Marital Status_Divorced, Marital Status_...</td>\n",
       "    </tr>\n",
       "    <tr>\n",
       "      <th>Decision tree</th>\n",
       "      <td>0.826087</td>\n",
       "      <td>0.826087</td>\n",
       "      <td>all</td>\n",
       "      <td>[Age, Tumor Size, Regional Node Examined, Regi...</td>\n",
       "    </tr>\n",
       "  </tbody>\n",
       "</table>\n",
       "</div>"
      ],
      "text/plain": [
       "                     Accuracy score before feature selection  \\\n",
       "Logistic regression                                 0.890683   \n",
       "SVM                                                 0.891925   \n",
       "Kernel SVM                                          0.881988   \n",
       "K-NN                                                0.857143   \n",
       "Decision tree                                       0.826087   \n",
       "\n",
       "                     Accuracy score after feature selection  \\\n",
       "Logistic regression                                0.896894   \n",
       "SVM                                                0.896894   \n",
       "Kernel SVM                                         0.898137   \n",
       "K-NN                                               0.894410   \n",
       "Decision tree                                      0.826087   \n",
       "\n",
       "                    Number of features  \\\n",
       "Logistic regression                 15   \n",
       "SVM                                 19   \n",
       "Kernel SVM                           2   \n",
       "K-NN                                19   \n",
       "Decision tree                      all   \n",
       "\n",
       "                                                         Columns names  \n",
       "Logistic regression  [Marital Status_Divorced, Marital Status_Singl...  \n",
       "SVM                  [Age, Marital Status_Divorced, Marital Status_...  \n",
       "Kernel SVM                [A Stage_Regional, Estrogen Status_Negative]  \n",
       "K-NN                 [Age, Marital Status_Divorced, Marital Status_...  \n",
       "Decision tree        [Age, Tumor Size, Regional Node Examined, Regi...  "
      ]
     },
     "execution_count": 33,
     "metadata": {},
     "output_type": "execute_result"
    }
   ],
   "source": [
    "comp_df = acc_df.join(best_acc_df)\n",
    "comp_df['Columns names'] = [list(get_features_name(best_acc_dict[j][1], X, y)) for j in methods_list]\n",
    "comp_df"
   ]
  },
  {
   "cell_type": "markdown",
   "id": "competent-anger",
   "metadata": {},
   "source": [
    "### Conclusion\n",
    "This breast cancer dataset contain information about 4024 paitents.\n",
    "Most of the paitents are white, between the ages 45-70, married and alive.\n",
    "\n",
    "There is no strong correlation among the variables. Using some classification algorithms we didn't get very good performences, although, we succeeded to improve the accuracy score a bit by using feature selection.\n",
    "The two common features to all algorithms are- A stage-Regional and Estrogen Status-Negative, meaning that those are most meaningful features to predict if a patients will die.\n",
    "\n",
    "I think that one significant of the reasons why we didn't get a better accuracy score, is the fact that there are a lot of alive patients compare to died paitents. This imbalancing makes it hard to the models to learn about paitents who are not alive, and hence to predict if patients will die."
   ]
  }
 ],
 "metadata": {
  "kernelspec": {
   "display_name": "Python 3",
   "language": "python",
   "name": "python3"
  },
  "language_info": {
   "codemirror_mode": {
    "name": "ipython",
    "version": 3
   },
   "file_extension": ".py",
   "mimetype": "text/x-python",
   "name": "python",
   "nbconvert_exporter": "python",
   "pygments_lexer": "ipython3",
   "version": "3.8.5"
  }
 },
 "nbformat": 4,
 "nbformat_minor": 5
}
